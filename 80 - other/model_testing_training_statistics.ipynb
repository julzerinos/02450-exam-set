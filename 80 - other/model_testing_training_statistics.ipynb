{
 "cells": [
  {
   "attachments": {},
   "cell_type": "markdown",
   "metadata": {},
   "source": [
    "**TIME TO TRAIN AND TEST**"
   ]
  },
  {
   "cell_type": "code",
   "execution_count": null,
   "metadata": {},
   "outputs": [],
   "source": [
    "( 6 * 10 * 720**2 + 6 * 5 * 80**2 + 800**2 + .5 * 200**2 ) / 1e6"
   ]
  },
  {
   "attachments": {},
   "cell_type": "markdown",
   "metadata": {},
   "source": [
    "**TIME/MODELS TRAINED**\n",
    "\n",
    "Setup:\n",
    "```\n",
    "| outer loop\n",
    "|   | inner loop\n",
    "|   |   | regularization or optimization [+1 model]\n",
    "|   outer loop model trained [+1 model]\n",
    "```"
   ]
  },
  {
   "cell_type": "code",
   "execution_count": 15,
   "metadata": {},
   "outputs": [
    {
     "name": "stdout",
     "output_type": "stream",
     "text": [
      "51 models trained in 1020 time units\n"
     ]
    }
   ],
   "source": [
    "outer = 3\n",
    "inner = 4\n",
    "models_to_train = 4\n",
    "train_minutes = 20\n",
    "\n",
    "models = outer * (inner * models_to_train + 1) \n",
    "time = models * train_minutes\n",
    "\n",
    "print(f\"{models} models trained in {time} time units\")"
   ]
  },
  {
   "attachments": {},
   "cell_type": "markdown",
   "metadata": {},
   "source": [
    "Setup:\n",
    "```\n",
    "| outer loop\n",
    "|   | inner loop\n",
    "|   |   | regularization of model a [+1 model]\n",
    "|   |   | regularization of model b [+1 model]\n",
    "|   outer loop model a trained [+1 model]\n",
    "|   outer loop model b trained [+1 model]\n",
    "```"
   ]
  },
  {
   "cell_type": "code",
   "execution_count": 4,
   "metadata": {},
   "outputs": [
    {
     "name": "stdout",
     "output_type": "stream",
     "text": [
      "208 models trained in 208 time units\n"
     ]
    }
   ],
   "source": [
    "outer = 4\n",
    "inner = 5\n",
    "a_models_to_train = 5\n",
    "b_models_to_train = 5\n",
    "train_minutes = 1\n",
    "\n",
    "models = outer * (inner * (a_models_to_train + b_models_to_train) + 1 + 1) \n",
    "time = models * train_minutes\n",
    "\n",
    "print(f\"{models} models trained in {time} time units\")"
   ]
  },
  {
   "attachments": {},
   "cell_type": "markdown",
   "metadata": {},
   "source": [
    "Setup:\n",
    "```\n",
    "hold out (no outer loop)\n",
    "\n",
    "| k fold loop\n",
    "|   | regularization loop\n",
    "|   | +1 model trained\n",
    "| +1 model trained\n",
    "| +1 model tested\n",
    "\n",
    "+ 1 model tested\n",
    "```"
   ]
  },
  {
   "cell_type": "code",
   "execution_count": 52,
   "metadata": {},
   "outputs": [
    {
     "data": {
      "text/plain": [
       "182899.47881598238"
      ]
     },
     "execution_count": 52,
     "metadata": {},
     "output_type": "execute_result"
    }
   ],
   "source": [
    "import numpy as np\n",
    "\n",
    "train_time = lambda n: n*np.log2(n)\n",
    "test_time = lambda m: m\n",
    "\n",
    "k_fold = 9\n",
    "regularization = 3\n",
    "\n",
    "total_test_time = 0\n",
    "\n",
    "N = 1000\n",
    "holdout_test = .2 * N\n",
    "holdout_train = .8 * N\n",
    "\n",
    "for k in range(k_fold):\n",
    "    k_fold_train = (1 - 1/k_fold) * holdout_train\n",
    "    k_fold_test = 1/k_fold * holdout_train\n",
    "\n",
    "    for r in range(regularization):\n",
    "        total_test_time += train_time(k_fold_train)\n",
    "\n",
    "    #total_test_time += train_time(k_fold_test) # ???\n",
    "    total_test_time += test_time(k_fold_test)\n",
    "\n",
    "total_test_time += test_time(holdout_test)\n",
    "\n",
    "total_test_time"
   ]
  },
  {
   "attachments": {},
   "cell_type": "markdown",
   "metadata": {},
   "source": [
    "**AMOUNT OF BACKPROPAGATION MODELS TESTED OR TRAINED**"
   ]
  },
  {
   "cell_type": "code",
   "execution_count": 4,
   "metadata": {},
   "outputs": [
    {
     "data": {
      "text/plain": [
       "110.0"
      ]
     },
     "execution_count": 4,
     "metadata": {},
     "output_type": "execute_result"
    }
   ],
   "source": [
    "import numpy as np\n",
    "\n",
    "k_fold = 5\n",
    "features_count = 8\n",
    "number_of_features_selected = 6\n",
    "\n",
    "per_level = np.hstack([1, np.linspace(number_of_features_selected, features_count, num=features_count-number_of_features_selected+1, endpoint=True)])\n",
    "total = np.sum(per_level)\n",
    "\n",
    "np.sum(per_level*k_fold)"
   ]
  },
  {
   "attachments": {},
   "cell_type": "markdown",
   "metadata": {},
   "source": [
    "**AMOUNT OF FORWARD PROPAGATION MODELS**"
   ]
  },
  {
   "cell_type": "code",
   "execution_count": 5,
   "metadata": {},
   "outputs": [
    {
     "data": {
      "text/plain": [
       "180"
      ]
     },
     "execution_count": 5,
     "metadata": {},
     "output_type": "execute_result"
    }
   ],
   "source": [
    "import numpy as np\n",
    "\n",
    "include_no_attributes = True\n",
    "k_fold = 5\n",
    "\n",
    "features_count = 8\n",
    "number_of_features_selected = 6\n",
    "\n",
    "per_level = np.arange(features_count-number_of_features_selected-1, features_count) + 1\n",
    "per_level = np.hstack([[1], per_level]) if include_no_attributes else per_level\n",
    "total = np.sum(per_level)\n",
    "np.sum(per_level*k_fold)"
   ]
  }
 ],
 "metadata": {
  "kernelspec": {
   "display_name": "computer-vision",
   "language": "python",
   "name": "python3"
  },
  "language_info": {
   "codemirror_mode": {
    "name": "ipython",
    "version": 3
   },
   "file_extension": ".py",
   "mimetype": "text/x-python",
   "name": "python",
   "nbconvert_exporter": "python",
   "pygments_lexer": "ipython3",
   "version": "3.10.10"
  },
  "orig_nbformat": 4
 },
 "nbformat": 4,
 "nbformat_minor": 2
}
