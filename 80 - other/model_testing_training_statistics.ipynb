{
 "cells": [
  {
   "attachments": {},
   "cell_type": "markdown",
   "metadata": {},
   "source": [
    "**TIME TO TRAIN AND TEST**"
   ]
  },
  {
   "cell_type": "code",
   "execution_count": null,
   "metadata": {},
   "outputs": [],
   "source": [
    "( 6 * 10 * 720**2 + 6 * 5 * 80**2 + 800**2 + .5 * 200**2 ) / 1e6"
   ]
  },
  {
   "attachments": {},
   "cell_type": "markdown",
   "metadata": {},
   "source": [
    "**TIME/MODELS TRAINED**\n",
    "\n",
    "Setup:\n",
    "```\n",
    "| outer loop\n",
    "|   | inner loop\n",
    "|   |   | regularization or optimization [+1 model]\n",
    "|   outer loop model trained [+1 model]\n",
    "```"
   ]
  },
  {
   "cell_type": "code",
   "execution_count": 15,
   "metadata": {},
   "outputs": [
    {
     "name": "stdout",
     "output_type": "stream",
     "text": [
      "51 models trained in 1020 time units\n"
     ]
    }
   ],
   "source": [
    "outer = 3\n",
    "inner = 4\n",
    "models_to_train = 4\n",
    "train_minutes = 20\n",
    "\n",
    "models = outer * (inner * models_to_train + 1) \n",
    "time = models * train_minutes\n",
    "\n",
    "print(f\"{models} models trained in {time} time units\")"
   ]
  },
  {
   "attachments": {},
   "cell_type": "markdown",
   "metadata": {},
   "source": [
    "Setup:\n",
    "```\n",
    "| outer loop\n",
    "|   | inner loop\n",
    "|   |   | regularization of model a [+1 model]\n",
    "|   |   | regularization of model b [+1 model]\n",
    "|   outer loop model a trained [+1 model]\n",
    "|   outer loop model b trained [+1 model]\n",
    "```"
   ]
  },
  {
   "cell_type": "code",
   "execution_count": 4,
   "metadata": {},
   "outputs": [
    {
     "name": "stdout",
     "output_type": "stream",
     "text": [
      "208 models trained in 208 time units\n"
     ]
    }
   ],
   "source": [
    "outer = 4\n",
    "inner = 5\n",
    "a_models_to_train = 5\n",
    "b_models_to_train = 5\n",
    "train_minutes = 1\n",
    "\n",
    "models = outer * (inner * (a_models_to_train + b_models_to_train) + 1 + 1) \n",
    "time = models * train_minutes\n",
    "\n",
    "print(f\"{models} models trained in {time} time units\")"
   ]
  },
  {
   "attachments": {},
   "cell_type": "markdown",
   "metadata": {},
   "source": [
    "**AMOUNT OF BACKPROPAGATION MODELS TESTED OR TRAINED**"
   ]
  },
  {
   "cell_type": "code",
   "execution_count": 11,
   "metadata": {},
   "outputs": [
    {
     "data": {
      "text/plain": [
       "16.0"
      ]
     },
     "execution_count": 11,
     "metadata": {},
     "output_type": "execute_result"
    }
   ],
   "source": [
    "import numpy as np\n",
    "\n",
    "features_count = 8\n",
    "number_of_features_selected = 7\n",
    "\n",
    "1 + np.sum(np.linspace(number_of_features_selected, features_count, num=features_count-number_of_features_selected+1, endpoint=True))"
   ]
  }
 ],
 "metadata": {
  "kernelspec": {
   "display_name": "computer-vision",
   "language": "python",
   "name": "python3"
  },
  "language_info": {
   "codemirror_mode": {
    "name": "ipython",
    "version": 3
   },
   "file_extension": ".py",
   "mimetype": "text/x-python",
   "name": "python",
   "nbconvert_exporter": "python",
   "pygments_lexer": "ipython3",
   "version": "3.10.10"
  },
  "orig_nbformat": 4
 },
 "nbformat": 4,
 "nbformat_minor": 2
}
