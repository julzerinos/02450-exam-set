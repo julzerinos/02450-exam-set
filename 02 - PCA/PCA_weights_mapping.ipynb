{
 "cells": [
  {
   "attachments": {},
   "cell_type": "markdown",
   "metadata": {},
   "source": [
    "**VISUALIZE WEIGHTS**"
   ]
  },
  {
   "cell_type": "code",
   "execution_count": 68,
   "metadata": {},
   "outputs": [
    {
     "data": {
      "text/plain": [
       "<Axes: >"
      ]
     },
     "execution_count": 68,
     "metadata": {},
     "output_type": "execute_result"
    },
    {
     "data": {
      "image/png": "[encoded data removed]",
      "text/plain": [
       "<Figure size 640x480 with 2 Axes>"
      ]
     },
     "metadata": {},
     "output_type": "display_data"
    }
   ],
   "source": [
    "import numpy as np\n",
    "import seaborn as sns\n",
    "\n",
    "\n",
    "weights = np.array([.11, -.58, .49,.6,-.23]).reshape(1, 5)\n",
    "sns.heatmap(\n",
    "    weights, \n",
    "    cmap='YlOrRd', \n",
    "    annot=True, \n",
    "    xticklabels=[f\"x{x+1}\" for x in range(weights.size)]\n",
    ")"
   ]
  },
  {
   "attachments": {},
   "cell_type": "markdown",
   "metadata": {},
   "source": [
    "**CALCUALTE MAPPING**"
   ]
  },
  {
   "cell_type": "code",
   "execution_count": 9,
   "metadata": {},
   "outputs": [
    {
     "data": {
      "text/plain": [
       "-1.891"
      ]
     },
     "execution_count": 9,
     "metadata": {},
     "output_type": "execute_result"
    }
   ],
   "source": [
    "import numpy as np\n",
    "\n",
    "PCA1 = np.array([0.04, .06, -.03, -.99, -.07])\n",
    "# PCA2 = np.array([-.12, .13, -.98, .03, -.05])\n",
    "\n",
    "x1 = np.array([15.5-12.9, 59.2-58.2,1.4-1.7,1438-1436,5.3-4.1]) \n",
    "# x2 = np.array([0, 0, -1.4, 0, 0]) \n",
    "\n",
    "x1 @ PCA1"
   ]
  },
  {
   "attachments": {},
   "cell_type": "markdown",
   "metadata": {},
   "source": [
    "**PCA VARIANCE**"
   ]
  },
  {
   "cell_type": "code",
   "execution_count": 5,
   "metadata": {},
   "outputs": [
    {
     "name": "stdout",
     "output_type": "stream",
     "text": [
      "consecutive PCA variance explained: [0.66 0.19 0.12 0.03 0.  ]\n",
      "cumulative PCA variance explained [0.66 0.85 0.97 1.   1.  ]\n"
     ]
    }
   ],
   "source": [
    "import numpy as np\n",
    "\n",
    "stds = np.array([43.4, 23.39, 18.26, 9.34, 2.14])\n",
    "vars = stds**2\n",
    "\n",
    "print(\"consecutive PCA variance explained:\", np.around(vars/vars.sum(), 2))\n",
    "print(\"cumulative PCA variance explained\", np.around(np.cumsum(vars/vars.sum()), 2))"
   ]
  },
  {
   "attachments": {},
   "cell_type": "markdown",
   "metadata": {},
   "source": [
    "**CHECK MAPPING GIVEN A POINT AND THE PRINCIPAL COMPONENTS MATRIX**"
   ]
  },
  {
   "cell_type": "code",
   "execution_count": 48,
   "metadata": {},
   "outputs": [
    {
     "name": "stdout",
     "output_type": "stream",
     "text": [
      "the b matrix (mapping of x into the component plane) is \n",
      "\t[ 3.000e-03 -3.278e+00  1.000e-03  4.200e-02  1.700e-02]\n"
     ]
    }
   ],
   "source": [
    "V = np.fromstring(\"\"\"0.11\t-0.8\t0.3\t-0.17\t-0.48\n",
    "-0.58\t-0.31\t0.01\t-0.5\t0.56\n",
    "0.49\t0.08\t-0.49\t-0.72\t-0.07\n",
    "0.6\t-0.36\t0.04\t0.27\t0.66\n",
    "-0.23\t-0.36\t-0.82\t0.37\t-0.09\n",
    "\"\"\", dtype=float, sep=' ').reshape(5,5)\n",
    "\n",
    "x1 = np.array([15.5-12.9, 59.2-58.2, 1.4-1.7, 1438-1436.8, 5.3-4.1]) \n",
    "\n",
    "print(f\"the b matrix (mapping of x into the component plane) is \\n\\t{x1 @ V}\")"
   ]
  }
 ],
 "metadata": {
  "kernelspec": {
   "display_name": "computer-vision",
   "language": "python",
   "name": "python3"
  },
  "language_info": {
   "codemirror_mode": {
    "name": "ipython",
    "version": 3
   },
   "file_extension": ".py",
   "mimetype": "text/x-python",
   "name": "python",
   "nbconvert_exporter": "python",
   "pygments_lexer": "ipython3",
   "version": "3.10.10"
  },
  "orig_nbformat": 4
 },
 "nbformat": 4,
 "nbformat_minor": 2
}
