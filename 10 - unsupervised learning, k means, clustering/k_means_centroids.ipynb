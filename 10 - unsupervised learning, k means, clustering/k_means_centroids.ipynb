{
 "cells": [
  {
   "attachments": {},
   "cell_type": "markdown",
   "metadata": {},
   "source": [
    "**K-MEANS**"
   ]
  },
  {
   "cell_type": "code",
   "execution_count": 3,
   "metadata": {},
   "outputs": [
    {
     "name": "stdout",
     "output_type": "stream",
     "text": [
      "centroids after 1 iteration(s)\n",
      "final centroids: [1.0, 5.0, 10.5]\n",
      "final clusters: [[0, 2], [4, 5, 6, 7], [14]]\n"
     ]
    }
   ],
   "source": [
    "import numpy as np\n",
    "\n",
    "data = [.4, 1.7, 3.7, 4.6]\n",
    "# centroids = [np.mean([.1, .3]), np.mean([.5, 1]), np.mean([2.2, 3, 4.1]), np.mean([4.4, 4.7])]\n",
    "centroids = [1, 5, 8]\n",
    "\n",
    "# SET THIS IF ONLY FIRST STEP IS NEEDED (-1 FOR CONVERGENCE)\n",
    "steps_to_take = 1\n",
    "\n",
    "k = 0 \n",
    "changed = True\n",
    "\n",
    "while changed and k < 100:\n",
    "    if steps_to_take > 0 and steps_to_take == k:\n",
    "        break\n",
    "\n",
    "    changed = False\n",
    "    k+=1\n",
    "\n",
    "    clusters = [[] for c in centroids]\n",
    "\n",
    "    for point in data:\n",
    "        distances = []\n",
    "        for centroid in centroids:\n",
    "            distances.append(np.abs(point - centroid))\n",
    "        \n",
    "        clusters[np.argmin(distances)].append(point)\n",
    "\n",
    "    for i, cluster in enumerate(clusters):\n",
    "        mean = np.mean(cluster)\n",
    "        if mean != centroids[i]:\n",
    "            changed = True\n",
    "        centroids[i] = mean\n",
    "\n",
    "\n",
    "final_clusters = [[] for c in centroids]\n",
    "\n",
    "for point in data:\n",
    "    distances = []\n",
    "    for centroid in centroids:\n",
    "        distances.append(np.abs(point - centroid))\n",
    "    \n",
    "    final_clusters[np.argmin(distances)].append(point)\n",
    "\n",
    "print(f\"centroids after {k} iteration(s)\")\n",
    "print(\"final centroids:\", centroids)\n",
    "print(\"final clusters:\", final_clusters)"
   ]
  }
 ],
 "metadata": {
  "kernelspec": {
   "display_name": "computer-vision",
   "language": "python",
   "name": "python3"
  },
  "language_info": {
   "codemirror_mode": {
    "name": "ipython",
    "version": 3
   },
   "file_extension": ".py",
   "mimetype": "text/x-python",
   "name": "python",
   "nbconvert_exporter": "python",
   "pygments_lexer": "ipython3",
   "version": "3.10.10"
  },
  "orig_nbformat": 4
 },
 "nbformat": 4,
 "nbformat_minor": 2
}
