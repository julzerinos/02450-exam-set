{
 "cells": [
  {
   "attachments": {},
   "cell_type": "markdown",
   "metadata": {},
   "source": [
    "**COMPARING CLUSTERS**"
   ]
  },
  {
   "cell_type": "code",
   "execution_count": 2,
   "metadata": {},
   "outputs": [
    {
     "name": "stdout",
     "output_type": "stream",
     "text": [
      "clusters: [array([1, 1, 1, 1, 2, 2, 2, 1]), array([2]), array([2])]\n",
      "f11, f00: 13 10\n",
      "K: 45.0\n",
      "R: 0.5111111111111111\n"
     ]
    }
   ],
   "source": [
    "import numpy as np\n",
    "from math import comb\n",
    "import itertools\n",
    "\n",
    "cluster_indices = np.array([1, 2, 1, 1, 1, 3, 1, 1, 1, 1])\n",
    "true_classes = np.array([1, 2, 1, 1, 1, 2, 2, 2, 2, 1])\n",
    "\n",
    "f11 = 0\n",
    "for i in range(cluster_indices.min(), cluster_indices.max()+1):\n",
    "    i_cluster_ind = cluster_indices == i\n",
    "    cluster = true_classes[i_cluster_ind]\n",
    "    for j in range(true_classes.min(), true_classes.max()+1):\n",
    "        count_same = cluster[cluster == j].size\n",
    "        f11 += comb(count_same, 2)\n",
    "\n",
    "f00 = 0\n",
    "clusters = []\n",
    "for i in range(cluster_indices.min(), cluster_indices.max()+1):\n",
    "    i_cluster_ind = cluster_indices == i\n",
    "    clusters.append(true_classes[i_cluster_ind])\n",
    "for cluster_a, cluster_b in itertools.combinations(clusters, 2):\n",
    "    for j in range(true_classes.min(), true_classes.max()+1):\n",
    "        count_diff = cluster_a[cluster_a == j].size * cluster_b[cluster_b != j].size\n",
    "        f00 += count_diff\n",
    "\n",
    "K = cluster_indices.size * (cluster_indices.size - 1) /2\n",
    "\n",
    "R = (f11 + f00) / K\n",
    "\n",
    "print(\"clusters:\", clusters)\n",
    "print(\"f11, f00:\", f11, f00)\n",
    "print(\"K:\", K)\n",
    "print(\"R:\", R)"
   ]
  },
  {
   "cell_type": "code",
   "execution_count": 4,
   "metadata": {},
   "outputs": [
    {
     "name": "stdout",
     "output_type": "stream",
     "text": [
      "R(and): 0.4666666666666667\n",
      "Jaccard: 0.14285714285714285\n",
      "NMI: 0.1862746501647187\n"
     ]
    },
    {
     "name": "stderr",
     "output_type": "stream",
     "text": [
      "C:\\Users\\j\\AppData\\Local\\Temp\\ipykernel_6792\\2062323658.py:35: RuntimeWarning: invalid value encountered in divide\n",
      "  p_ij[k,c] = m_ij.astype(float)/m_i[k]\n"
     ]
    }
   ],
   "source": [
    "import sklearn.metrics.cluster as cluster_metrics\n",
    "import numpy as np\n",
    "\n",
    "def clusterval(y, clusterid):\n",
    "    '''\n",
    "    CLUSTERVAL Estimate cluster validity using Entropy, Purity, Rand Statistic,\n",
    "    and Jaccard coefficient.\n",
    "    \n",
    "    Usage:\n",
    "      Entropy, Purity, Rand, Jaccard = clusterval(y, clusterid);\n",
    "    \n",
    "    Input:\n",
    "       y         N-by-1 vector of class labels \n",
    "       clusterid N-by-1 vector of cluster indices\n",
    "    \n",
    "    Output:\n",
    "      Entropy    Entropy measure.\n",
    "      Purity     Purity measure.\n",
    "      Rand       Rand index.\n",
    "      Jaccard    Jaccard coefficient.\n",
    "    '''\n",
    "    NMI = cluster_metrics.normalized_mutual_info_score(y,clusterid)\n",
    "    \n",
    "    #y = np.asarray(y).ravel(); clusterid = np.asarray(clusterid).ravel()\n",
    "    C = np.unique(y).size; K = np.unique(clusterid).size; N = y.shape[0]\n",
    "    EPS = 2.22e-16\n",
    "    \n",
    "    p_ij = np.zeros((K,C))          # probability that member of i'th cluster belongs to j'th class\n",
    "    m_i = np.zeros((K,1))           # total number of objects in i'th cluster\n",
    "    for k in range(K):\n",
    "        m_i[k] = (clusterid==k).sum()\n",
    "        yk = y[clusterid==k]\n",
    "        for c in range(C):\n",
    "            m_ij = (yk==c).sum()    # number of objects of j'th class in i'th cluster\n",
    "            p_ij[k,c] = m_ij.astype(float)/m_i[k]\n",
    "    entropy = ( (1-(p_ij*np.log2(p_ij+EPS)).sum(axis=1))*m_i.T ).sum() / (N*K) \n",
    "    purity = ( p_ij.max(axis=1) ).sum() / K\n",
    "\n",
    "    f00=0; f01=0; f10=0; f11=0\n",
    "    for i in range(N):\n",
    "        for j in range(i):\n",
    "            if y[i]!=y[j] and clusterid[i]!=clusterid[j]: f00 += 1;     # different class, different cluster    \n",
    "            elif y[i]==y[j] and clusterid[i]==clusterid[j]: f11 += 1;   # same class, same cluster\n",
    "            elif y[i]==y[j] and clusterid[i]!=clusterid[j]: f10 += 1;   # same class, different cluster    \n",
    "            else: f01 +=1;                                              # different class, same cluster\n",
    "    rand = float(f00+f11)/(f00+f01+f10+f11)\n",
    "    jaccard = float(f11)/(f01+f10+f11)\n",
    "\n",
    "    return rand, jaccard, NMI\n",
    "\n",
    "import numpy as np\n",
    "\n",
    "cluster_indices = np.array([1, 1, 1, 1, 1, 1, 2, 3, 3, 3])\n",
    "true_classes = np.array([1, 2, 1, 2, 3, 3, 3, 2, 3, 3])\n",
    "\n",
    "Rand, jaccard, NMI =  clusterval(true_classes, cluster_indices)\n",
    "\n",
    "print(\"R(and):\", Rand)\n",
    "print(\"Jaccard:\", jaccard)\n",
    "print(\"NMI:\", NMI)"
   ]
  }
 ],
 "metadata": {
  "kernelspec": {
   "display_name": "computer-vision",
   "language": "python",
   "name": "python3"
  },
  "language_info": {
   "codemirror_mode": {
    "name": "ipython",
    "version": 3
   },
   "file_extension": ".py",
   "mimetype": "text/x-python",
   "name": "python",
   "nbconvert_exporter": "python",
   "pygments_lexer": "ipython3",
   "version": "3.10.10"
  },
  "orig_nbformat": 4
 },
 "nbformat": 4,
 "nbformat_minor": 2
}
