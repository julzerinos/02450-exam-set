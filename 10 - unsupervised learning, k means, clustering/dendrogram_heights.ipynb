{
 "cells": [
  {
   "cell_type": "code",
   "execution_count": 1,
   "metadata": {},
   "outputs": [
    {
     "data": {
      "text/plain": [
       "1.491"
      ]
     },
     "execution_count": 1,
     "metadata": {},
     "output_type": "execute_result"
    }
   ],
   "source": [
    "import numpy as np\n",
    "\n",
    "group_avg = lambda dis: dis.sum()/dis.size\n",
    "\n",
    "# distance = group_avg\n",
    "\n",
    "# cluster1 = np.array([])\n",
    "# cluster2 = np.array([])\n",
    "\n",
    "distances = np.array([1.63, 1.5, 1.29, 1.56, 1.46, 1.68, 1.52, 1.33, 1.5, 1.44])\n",
    "\n",
    "group_avg(distances)"
   ]
  }
 ],
 "metadata": {
  "kernelspec": {
   "display_name": "computer-vision",
   "language": "python",
   "name": "python3"
  },
  "language_info": {
   "codemirror_mode": {
    "name": "ipython",
    "version": 3
   },
   "file_extension": ".py",
   "mimetype": "text/x-python",
   "name": "python",
   "nbconvert_exporter": "python",
   "pygments_lexer": "ipython3",
   "version": "3.10.10"
  },
  "orig_nbformat": 4
 },
 "nbformat": 4,
 "nbformat_minor": 2
}
