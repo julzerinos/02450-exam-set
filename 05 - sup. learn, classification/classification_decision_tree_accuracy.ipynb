{
 "cells": [
  {
   "attachments": {},
   "cell_type": "markdown",
   "metadata": {},
   "source": [
    "**ACCURACY OF DECISION TREE SPLITS**"
   ]
  },
  {
   "cell_type": "code",
   "execution_count": 1,
   "metadata": {},
   "outputs": [
    {
     "name": "stdout",
     "output_type": "stream",
     "text": [
      "accuracy: 0.4204081632653061\n"
     ]
    }
   ],
   "source": [
    "import numpy as np\n",
    "\n",
    "# The R matrix contains all the splits\n",
    "# columns are classes, rows are branches\n",
    "\n",
    "R = np.array([\n",
    "    [223, 251, 197],\n",
    "    [263-223, 359-251, 358-197]\n",
    "])\n",
    "\n",
    "accuracy = (R.max(axis=1).sum())/R.sum()\n",
    "print(\"accuracy:\", accuracy)"
   ]
  }
 ],
 "metadata": {
  "kernelspec": {
   "display_name": "computer-vision",
   "language": "python",
   "name": "python3"
  },
  "language_info": {
   "codemirror_mode": {
    "name": "ipython",
    "version": 3
   },
   "file_extension": ".py",
   "mimetype": "text/x-python",
   "name": "python",
   "nbconvert_exporter": "python",
   "pygments_lexer": "ipython3",
   "version": "3.10.10"
  },
  "orig_nbformat": 4
 },
 "nbformat": 4,
 "nbformat_minor": 2
}
