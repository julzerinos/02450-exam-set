{
 "cells": [
  {
   "cell_type": "code",
   "execution_count": 53,
   "metadata": {},
   "outputs": [
    {
     "name": "stdout",
     "output_type": "stream",
     "text": [
      "27.625\n",
      "27.25\n",
      "27.125\n",
      "27.250000000000004\n"
     ]
    }
   ],
   "source": [
    "import numpy as np\n",
    "\n",
    "x = np.array([1, 2, 3, 4])\n",
    "y = np.array([6, 2, 3, 4])\n",
    "\n",
    "xi = np.array([np.cos(np.pi/2 * x), np.sin(np.pi/2 * x)])\n",
    "\n",
    "w0 = 6\n",
    "\n",
    "print(np.mean(np.square(\n",
    "    y - (xi.T @ np.array([w0, .5]))\n",
    ")))\n",
    "print(np.mean(np.square(\n",
    "    y - (xi.T @ np.array([w0, 1]))\n",
    ")))\n",
    "print(np.mean(np.square(\n",
    "    y - (xi.T @ np.array([w0, 3/2]))\n",
    ")))\n",
    "print(np.mean(np.square(\n",
    "    y - (xi.T @ np.array([w0, 2]))\n",
    ")))"
   ]
  },
  {
   "cell_type": "code",
   "execution_count": 109,
   "metadata": {},
   "outputs": [
    {
     "data": {
      "text/plain": [
       "11.135534215782727"
      ]
     },
     "execution_count": 109,
     "metadata": {},
     "output_type": "execute_result"
    }
   ],
   "source": [
    "import numpy as np\n",
    "\n",
    "# 1 x1 x2\n",
    "y = np.array([6, 2, 3, 4])\n",
    "xin = np.array([1, 2, 3, 4])\n",
    "xin = (xin - xin.mean())/xin.std()\n",
    "\n",
    "x = np.array([[1, 1, 1, 1], xin])\n",
    "\n",
    "wo = 15/4\n",
    "W = np.array([1, -np.square(3/20)])\n",
    "\n",
    "lambd = 4\n",
    "f = w0 + W @ x \n",
    "\n",
    "\n",
    "np.linalg.norm(y - f) + np.linalg.norm(W) * lambd"
   ]
  }
 ],
 "metadata": {
  "kernelspec": {
   "display_name": "computer-vision",
   "language": "python",
   "name": "python3"
  },
  "language_info": {
   "codemirror_mode": {
    "name": "ipython",
    "version": 3
   },
   "file_extension": ".py",
   "mimetype": "text/x-python",
   "name": "python",
   "nbconvert_exporter": "python",
   "pygments_lexer": "ipython3",
   "version": "3.10.10"
  },
  "orig_nbformat": 4
 },
 "nbformat": 4,
 "nbformat_minor": 2
}
