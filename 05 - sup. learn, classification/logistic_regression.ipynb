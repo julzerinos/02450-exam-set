{
 "cells": [
  {
   "attachments": {},
   "cell_type": "markdown",
   "metadata": {},
   "source": [
    "**CALCULATE POINT IN LOGISTIC**"
   ]
  },
  {
   "cell_type": "code",
   "execution_count": 4,
   "metadata": {},
   "outputs": [
    {
     "data": {
      "text/plain": [
       "0.28292471450702744"
      ]
     },
     "execution_count": 4,
     "metadata": {},
     "output_type": "execute_result"
    }
   ],
   "source": [
    "import numpy as np\n",
    "\n",
    "sigmoid = lambda z: 1/(1 + np.exp(-z))\n",
    "\n",
    "# [constant term 1, x]\n",
    "x = np.array([1, 0])\n",
    "w = np.array([-.93, 1.72])\n",
    "\n",
    "sigmoid(w @ x)"
   ]
  },
  {
   "cell_type": "code",
   "execution_count": 15,
   "metadata": {},
   "outputs": [
    {
     "name": "stdout",
     "output_type": "stream",
     "text": [
      "for point [-0.5  0. ] class probabilities are\n",
      "y=1 : 0.611841682594782 (max)\n",
      "y=2 : 0.3053545499952876 \n",
      "y=3 : 0.0828037674099305 \n",
      "\n",
      "for point [0 0] class probabilities are\n",
      "y=1 : 0.16776181330991458 \n",
      "y=2 : 0.46991188362956693 (max)\n",
      "y=3 : 0.3623263030605185 \n",
      "\n",
      "for point [0.5 0. ] class probabilities are\n",
      "y=1 : 0.0195358439400643 \n",
      "y=2 : 0.3071238016525386 \n",
      "y=3 : 0.673340354407397 (max)\n",
      "\n"
     ]
    }
   ],
   "source": [
    "import numpy as np\n",
    "\n",
    "xs = [\n",
    "    np.array([-.5, 0]),\n",
    "    np.array([0, 0]),\n",
    "    np.array([.5, 0]),\n",
    "]\n",
    "\n",
    "for x in xs:\n",
    "    yh1 = np.hstack([1, x]) @ np.array([-.77, -5.54, .01])\n",
    "    yh2 = np.hstack([1, x]) @ np.array([.26, -2.09, -.03])\n",
    "\n",
    "    P1 = np.e**yh1 / (1 + np.e**yh1 + np.e**yh2)\n",
    "    P2 = np.e**yh2 / (1 + np.e**yh1 + np.e**yh2)\n",
    "    P3 = 1 / (1 + np.e**yh1 + np.e**yh2)\n",
    "\n",
    "    max = np.max([P1, P2, P3])\n",
    "\n",
    "    print(f\"for point {x} class probabilities are\")\n",
    "    print(f\"y=1 : {P1} {'(max)' if max == P1 else ''}\")\n",
    "    print(f\"y=2 : {P2} {'(max)' if max == P2 else ''}\")\n",
    "    print(f\"y=3 : {P3} {'(max)' if max == P3 else ''}\")\n",
    "    print()"
   ]
  }
 ],
 "metadata": {
  "kernelspec": {
   "display_name": "computer-vision",
   "language": "python",
   "name": "python3"
  },
  "language_info": {
   "codemirror_mode": {
    "name": "ipython",
    "version": 3
   },
   "file_extension": ".py",
   "mimetype": "text/x-python",
   "name": "python",
   "nbconvert_exporter": "python",
   "pygments_lexer": "ipython3",
   "version": "3.10.10"
  },
  "orig_nbformat": 4
 },
 "nbformat": 4,
 "nbformat_minor": 2
}
