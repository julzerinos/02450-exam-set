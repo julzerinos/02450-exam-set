{
 "cells": [
  {
   "attachments": {},
   "cell_type": "markdown",
   "metadata": {},
   "source": [
    "**MULTINOMIAL REGRESSION PROBABILITY FOR POINT**"
   ]
  },
  {
   "cell_type": "code",
   "execution_count": 10,
   "metadata": {},
   "outputs": [
    {
     "name": "stdout",
     "output_type": "stream",
     "text": [
      "The probabilities the observation belongs to classes:\n",
      "y=1 : 0.4723548433688405\n",
      "y=2 : 0.06925050863386308\n",
      "y=3 : 0.4583946479972964\n"
     ]
    }
   ],
   "source": [
    "import numpy as np\n",
    "\n",
    "# x = np.array([])\n",
    "# wc1 = np.array([])\n",
    "# wc2 = np.array([])\n",
    "\n",
    "# w1x = wc1 @ x\n",
    "# w2x = wc2 @ x\n",
    "\n",
    "w1x = .03\n",
    "w2x = -1.89\n",
    "\n",
    "weights_x = np.array([w1x, w2x])\n",
    "classes = weights_x.size + 1\n",
    "\n",
    "print(f\"The probabilities the observation belongs to classes:\")\n",
    "for i, wx in enumerate(weights_x):\n",
    "    p = np.exp(wx) / (np.exp(weights_x).sum() + 1)\n",
    "    print(f\"y={i+1} : {p}\")\n",
    "\n",
    "p_last_class = 1 / (np.exp(weights_x).sum() + 1)\n",
    "print(f\"y={i+2} : {p_last_class}\")"
   ]
  }
 ],
 "metadata": {
  "kernelspec": {
   "display_name": "computer-vision",
   "language": "python",
   "name": "python3"
  },
  "language_info": {
   "codemirror_mode": {
    "name": "ipython",
    "version": 3
   },
   "file_extension": ".py",
   "mimetype": "text/x-python",
   "name": "python",
   "nbconvert_exporter": "python",
   "pygments_lexer": "ipython3",
   "version": "3.10.10"
  },
  "orig_nbformat": 4
 },
 "nbformat": 4,
 "nbformat_minor": 2
}
