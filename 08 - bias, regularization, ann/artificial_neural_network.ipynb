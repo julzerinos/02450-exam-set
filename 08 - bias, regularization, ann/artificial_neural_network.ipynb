{
 "cells": [
  {
   "attachments": {},
   "cell_type": "markdown",
   "metadata": {},
   "source": [
    "**CALCULATE SPECIFIC POINTS OF A NEURAL NETWORK**"
   ]
  },
  {
   "cell_type": "code",
   "execution_count": 17,
   "metadata": {},
   "outputs": [
    {
     "name": "stdout",
     "output_type": "stream",
     "text": [
      "ann f([1 0 0]) = 1.2000000000000002\n",
      "0.3599999999999996\n",
      "ann f([1 1 0]) = 3.2\n",
      "11.560000000000002\n",
      "ann f([1 1 1]) = 4.2\n",
      "29.160000000000004\n",
      "ann f([1 1 2]) = 5.2\n",
      "54.760000000000005\n"
     ]
    }
   ],
   "source": [
    "import numpy as np\n",
    "\n",
    "# 1 x1 x2\n",
    "xs = [np.array([1, 0, 0]), np.array([1, 1, 0]), np.array([1, 1, 1]), np.array([1, 1, 2])] \n",
    "\n",
    "sigmoid = lambda x: 1/(1+np.e**(-x))\n",
    "linear = lambda x: x\n",
    "max_ = lambda x: np.max(x, 0)\n",
    "\n",
    "activation1 = max_\n",
    "activation2 = linear\n",
    "\n",
    "wo = 2.2\n",
    "ws = [\n",
    "    {\n",
    "        'w': 1/2,\n",
    "        'W': np.array([-2, 4, 2])\n",
    "    },\n",
    "    # {\n",
    "    #     'w': .5,\n",
    "    #     'W': np.array([-1, 0, .9])\n",
    "    # },\n",
    "    # {\n",
    "    #     'w': 1/3,\n",
    "    #     'W': np.array([-.1, 2.1])\n",
    "    # }\n",
    "]\n",
    "\n",
    "for x in xs:\n",
    "\n",
    "    sum = 0\n",
    "    for w in ws:\n",
    "        sum += w['w'] * activation1( x @ w['W'] )\n",
    "\n",
    "    f = activation2( sum + wo )\n",
    "    print(f\"ann f({x}) = {f}\")\n",
    "\n",
    "    y = 3\n",
    "    print((f * 2 - y)**2)\n"
   ]
  }
 ],
 "metadata": {
  "kernelspec": {
   "display_name": "computer-vision",
   "language": "python",
   "name": "python3"
  },
  "language_info": {
   "codemirror_mode": {
    "name": "ipython",
    "version": 3
   },
   "file_extension": ".py",
   "mimetype": "text/x-python",
   "name": "python",
   "nbconvert_exporter": "python",
   "pygments_lexer": "ipython3",
   "version": "3.10.10"
  },
  "orig_nbformat": 4
 },
 "nbformat": 4,
 "nbformat_minor": 2
}
