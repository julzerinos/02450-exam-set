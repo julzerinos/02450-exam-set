{
 "cells": [
  {
   "attachments": {},
   "cell_type": "markdown",
   "metadata": {},
   "source": [
    "**CALCULATE SPECIFIC POINTS OF A NEURAL NETWORK**"
   ]
  },
  {
   "cell_type": "code",
   "execution_count": 12,
   "metadata": {},
   "outputs": [
    {
     "name": "stdout",
     "output_type": "stream",
     "text": [
      "ann f([1 3 3]) = 2.612096010676442\n",
      "ann f([ 1.  -2.5 -3. ]) = 2.043410560443095\n",
      "ann f([ 1.  -2.5  3. ]) = 2.3290182708138367\n"
     ]
    }
   ],
   "source": [
    "import numpy as np\n",
    "\n",
    "# 1 x1 x2\n",
    "xs = [np.array([1, 3, 3]), np.array([1, -2.5, -3]), np.array([1, -2.5, 3])] \n",
    "\n",
    "sigmoid = lambda x: 1/(1+np.e**(-x))\n",
    "linear = lambda x: x\n",
    "max_ = lambda x: np.max(x, 0)\n",
    "\n",
    "activation1 = sigmoid\n",
    "activation2 = linear\n",
    "\n",
    "wo = 2.2\n",
    "ws = [\n",
    "    {\n",
    "        'w': -.3,\n",
    "        'W': np.array([-1.2, -1.3, .6])\n",
    "    },\n",
    "    {\n",
    "        'w': .5,\n",
    "        'W': np.array([-1, 0, .9])\n",
    "    },\n",
    "    # {\n",
    "    #     'w': 1/3,\n",
    "    #     'W': np.array([-.1, 2.1])\n",
    "    # }\n",
    "]\n",
    "\n",
    "for x in xs:\n",
    "\n",
    "    sum = 0\n",
    "    for w in ws:\n",
    "        sum += w['w'] * activation1( x @ w['W'] )\n",
    "\n",
    "    f = activation2( sum + wo )\n",
    "    print(f\"ann f({x}) = {f}\")\n"
   ]
  }
 ],
 "metadata": {
  "kernelspec": {
   "display_name": "computer-vision",
   "language": "python",
   "name": "python3"
  },
  "language_info": {
   "codemirror_mode": {
    "name": "ipython",
    "version": 3
   },
   "file_extension": ".py",
   "mimetype": "text/x-python",
   "name": "python",
   "nbconvert_exporter": "python",
   "pygments_lexer": "ipython3",
   "version": "3.10.10"
  },
  "orig_nbformat": 4
 },
 "nbformat": 4,
 "nbformat_minor": 2
}
