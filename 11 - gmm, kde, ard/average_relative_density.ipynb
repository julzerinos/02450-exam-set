{
 "cells": [
  {
   "cell_type": "code",
   "execution_count": 4,
   "metadata": {},
   "outputs": [
    {
     "name": "stdout",
     "output_type": "stream",
     "text": [
      "density for outlier is 0.0298804780876494\n",
      "density for neighbor 0 is 0.02405773857257418\n",
      "density for neighbor 1 is 0.03036437246963563\n",
      "density for neighbor 2 is 0.03164556962025317\n"
     ]
    },
    {
     "data": {
      "text/plain": [
       "1.0415225967863668"
      ]
     },
     "execution_count": 4,
     "metadata": {},
     "output_type": "execute_result"
    }
   ],
   "source": [
    "import numpy as np\n",
    "\n",
    "# Each point has to have exactly K neighbors\n",
    "K = 3\n",
    "outlier_neighbor_distances = [38.5, 37.7, 24.2]\n",
    "\n",
    "neighbor_distances =[\n",
    "    [69.9, 19.3, 35.5],\n",
    "    [58, 19.3, 21.5],\n",
    "    [24.2, 33.4, 37.2]\n",
    "]\n",
    "\n",
    "D_outlier = 1 / ( 1/K * np.sum(outlier_neighbor_distances) )\n",
    "print(f\"density for outlier is {D_outlier}\")\n",
    "\n",
    "Ds = []\n",
    "for i, n in enumerate(neighbor_distances):\n",
    "    D = 1 / (1/K * np.sum(n))\n",
    "    Ds.append(D)\n",
    "    print(f\"density for neighbor {i} is {D}\")\n",
    "\n",
    "ARD = D_outlier / (1/K * (np.sum(Ds)))\n",
    "\n",
    "ARD"
   ]
  }
 ],
 "metadata": {
  "kernelspec": {
   "display_name": "computer-vision",
   "language": "python",
   "name": "python3"
  },
  "language_info": {
   "codemirror_mode": {
    "name": "ipython",
    "version": 3
   },
   "file_extension": ".py",
   "mimetype": "text/x-python",
   "name": "python",
   "nbconvert_exporter": "python",
   "pygments_lexer": "ipython3",
   "version": "3.10.10"
  },
  "orig_nbformat": 4
 },
 "nbformat": 4,
 "nbformat_minor": 2
}
