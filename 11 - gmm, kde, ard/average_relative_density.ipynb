{
 "cells": [
  {
   "cell_type": "code",
   "execution_count": 2,
   "metadata": {},
   "outputs": [
    {
     "data": {
      "text/plain": [
       "0.6979857215706273"
      ]
     },
     "execution_count": 2,
     "metadata": {},
     "output_type": "execute_result"
    }
   ],
   "source": [
    "import numpy as np\n",
    "\n",
    "# Each point has to have exactly K neighbors\n",
    "K = 2\n",
    "outlier_neighbor_distances = [5.4, 5.2]\n",
    "\n",
    "neighbor_distances =[\n",
    "    [4.0, 3.5],\n",
    "    [4, 3.3]\n",
    "]\n",
    "\n",
    "D_outlier = 1 / ( 1/K * np.sum(outlier_neighbor_distances) )\n",
    "Ds = []\n",
    "for n in neighbor_distances:\n",
    "    D = 1 / (1/K * np.sum(n))\n",
    "    Ds.append(D)\n",
    "\n",
    "ARD = D_outlier / (1/K * (np.sum(Ds)))\n",
    "\n",
    "ARD"
   ]
  }
 ],
 "metadata": {
  "kernelspec": {
   "display_name": "computer-vision",
   "language": "python",
   "name": "python3"
  },
  "language_info": {
   "codemirror_mode": {
    "name": "ipython",
    "version": 3
   },
   "file_extension": ".py",
   "mimetype": "text/x-python",
   "name": "python",
   "nbconvert_exporter": "python",
   "pygments_lexer": "ipython3",
   "version": "3.10.10"
  },
  "orig_nbformat": 4
 },
 "nbformat": 4,
 "nbformat_minor": 2
}
