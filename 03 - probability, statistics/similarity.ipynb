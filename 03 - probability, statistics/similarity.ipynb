{
 "cells": [
  {
   "attachments": {},
   "cell_type": "markdown",
   "metadata": {},
   "source": [
    "**COSINE SIMILARITY**"
   ]
  },
  {
   "cell_type": "code",
   "execution_count": 2,
   "metadata": {},
   "outputs": [
    {
     "name": "stdout",
     "output_type": "stream",
     "text": [
      "Cosine: 0.4364357804719848\n"
     ]
    }
   ],
   "source": [
    "import numpy as np\n",
    "\n",
    "f11 = 1+1+1+1\n",
    "xn = 12\n",
    "yn = 7\n",
    "\n",
    "cosine = f11/(np.sqrt(xn) * np.sqrt(yn))\n",
    "print(\"Cosine:\", cosine)"
   ]
  },
  {
   "attachments": {},
   "cell_type": "markdown",
   "metadata": {},
   "source": [
    "**JACCARD SIMILARITY**"
   ]
  },
  {
   "cell_type": "code",
   "execution_count": 16,
   "metadata": {},
   "outputs": [
    {
     "name": "stdout",
     "output_type": "stream",
     "text": [
      "jaccard: 0.6666666666666666\n"
     ]
    }
   ],
   "source": [
    "f11 = 2\n",
    "f10 = 0\n",
    "f01 = 1\n",
    "\n",
    "jaccard = f11 / (f11 + f10 + f01)\n",
    "print(\"jaccard:\", jaccard)"
   ]
  },
  {
   "attachments": {},
   "cell_type": "markdown",
   "metadata": {},
   "source": [
    "**SIMPLE MATCHING COEFFICIENT**"
   ]
  },
  {
   "cell_type": "code",
   "execution_count": null,
   "metadata": {},
   "outputs": [],
   "source": [
    "f11 = 1\n",
    "f00 = 1\n",
    "M = 1 # number of attributes\n",
    "\n",
    "smc = (f11 + f00)/M\n",
    "print(\"simple matching coefficient:\", smc)"
   ]
  },
  {
   "attachments": {},
   "cell_type": "markdown",
   "metadata": {},
   "source": [
    "**ALL MEASURES FOR OBSERVATIONS**"
   ]
  },
  {
   "cell_type": "code",
   "execution_count": 23,
   "metadata": {},
   "outputs": [
    {
     "name": "stdout",
     "output_type": "stream",
     "text": [
      "Cosine: 0.0\n",
      "jaccard: 0.0\n",
      "simple matching coefficient: 0.7777777777777778\n"
     ]
    }
   ],
   "source": [
    "import numpy as np\n",
    "\n",
    "x1 = np.array([0,0,0,0,0,0,0,0,1])\n",
    "x2 = np.array([1,0,0,0,0,0,0,0,0])\n",
    "\n",
    "n1 = x1.size\n",
    "n2 = x2.size\n",
    "M = np.max([n1, n2])\n",
    "\n",
    "f11 = (x1 == 1) & (x2 == 1)\n",
    "f11 = f11[f11].size\n",
    "\n",
    "f00 = (x1 == 0) & (x2 == 0)\n",
    "f00 = f00[f00].size\n",
    "\n",
    "f01 = (x1 == 0) & (x2 == 1)\n",
    "f01 = f01[f01].size\n",
    "\n",
    "f10 = (x1 == 1) & (x2 == 0)\n",
    "f10 = f10[f10].size\n",
    "\n",
    "cosine = f11/(np.sqrt(n1) * np.sqrt(n2))\n",
    "jaccard = f11 / (f11 + f10 + f01)\n",
    "smc = (f11 + f00)/M\n",
    "\n",
    "print(\"Cosine:\", cosine)\n",
    "print(\"jaccard:\", jaccard)\n",
    "print(\"simple matching coefficient:\", smc)"
   ]
  }
 ],
 "metadata": {
  "kernelspec": {
   "display_name": "computer-vision",
   "language": "python",
   "name": "python3"
  },
  "language_info": {
   "codemirror_mode": {
    "name": "ipython",
    "version": 3
   },
   "file_extension": ".py",
   "mimetype": "text/x-python",
   "name": "python",
   "nbconvert_exporter": "python",
   "pygments_lexer": "ipython3",
   "version": "3.10.10"
  },
  "orig_nbformat": 4
 },
 "nbformat": 4,
 "nbformat_minor": 2
}
