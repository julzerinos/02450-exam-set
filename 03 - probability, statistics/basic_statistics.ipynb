{
 "cells": [
  {
   "attachments": {},
   "cell_type": "markdown",
   "metadata": {},
   "source": [
    "**CALCULATE STATS FOR AN ARRAY**"
   ]
  },
  {
   "cell_type": "code",
   "execution_count": 11,
   "metadata": {},
   "outputs": [
    {
     "name": "stdout",
     "output_type": "stream",
     "text": [
      "mean:\t\t\t 1.5\n",
      "median:\t\t\t 1.5\n",
      "std (population):\t 0.5\n",
      "std (sample):\t\t 0.7071067811865476\n"
     ]
    }
   ],
   "source": [
    "import numpy as np\n",
    "\n",
    "arr = [1, 2]\n",
    "\n",
    "print(\"mean:\\t\\t\\t\", np.mean(arr))\n",
    "print(\"median:\\t\\t\\t\", np.median(arr))\n",
    "print(\"std (population):\\t\", np.std(arr))\n",
    "print(\"std (sample):\\t\\t\", np.std(arr, ddof=1))"
   ]
  }
 ],
 "metadata": {
  "kernelspec": {
   "display_name": "computer-vision",
   "language": "python",
   "name": "python3"
  },
  "language_info": {
   "codemirror_mode": {
    "name": "ipython",
    "version": 3
   },
   "file_extension": ".py",
   "mimetype": "text/x-python",
   "name": "python",
   "nbconvert_exporter": "python",
   "pygments_lexer": "ipython3",
   "version": "3.10.10"
  },
  "orig_nbformat": 4
 },
 "nbformat": 4,
 "nbformat_minor": 2
}
